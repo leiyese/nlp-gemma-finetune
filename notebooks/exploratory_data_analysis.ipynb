{
 "cells": [
  {
   "cell_type": "markdown",
   "id": "cdee32e5",
   "metadata": {},
   "source": [
    "# notebooks/exploratory_data_analysis.ipynb"
   ]
  },
  {
   "cell_type": "code",
   "execution_count": 24,
   "id": "7fa87113",
   "metadata": {},
   "outputs": [],
   "source": [
    "\n",
    "\n",
    "import pandas as pd\n",
    "import matplotlib.pyplot as plt\n",
    "import seaborn as sns"
   ]
  },
  {
   "cell_type": "code",
   "execution_count": 25,
   "id": "48263c28",
   "metadata": {},
   "outputs": [],
   "source": [
    "file_path = '../data/FP-data.csv'"
   ]
  },
  {
   "cell_type": "code",
   "execution_count": 26,
   "id": "93d64963",
   "metadata": {},
   "outputs": [
    {
     "name": "stdout",
     "output_type": "stream",
     "text": [
      "Data successfully read!\n",
      "\n"
     ]
    },
    {
     "data": {
      "text/html": [
       "<div>\n",
       "<style scoped>\n",
       "    .dataframe tbody tr th:only-of-type {\n",
       "        vertical-align: middle;\n",
       "    }\n",
       "\n",
       "    .dataframe tbody tr th {\n",
       "        vertical-align: top;\n",
       "    }\n",
       "\n",
       "    .dataframe thead th {\n",
       "        text-align: right;\n",
       "    }\n",
       "</style>\n",
       "<table border=\"1\" class=\"dataframe\">\n",
       "  <thead>\n",
       "    <tr style=\"text-align: right;\">\n",
       "      <th></th>\n",
       "      <th>sentence</th>\n",
       "      <th>label</th>\n",
       "    </tr>\n",
       "  </thead>\n",
       "  <tbody>\n",
       "    <tr>\n",
       "      <th>0</th>\n",
       "      <td>The GeoSolutions technology will leverage Bene...</td>\n",
       "      <td>positive</td>\n",
       "    </tr>\n",
       "    <tr>\n",
       "      <th>1</th>\n",
       "      <td>$ESI on lows, down $1.50 to $2.50 BK a real po...</td>\n",
       "      <td>negative</td>\n",
       "    </tr>\n",
       "    <tr>\n",
       "      <th>2</th>\n",
       "      <td>For the last quarter of 2010 , Componenta 's n...</td>\n",
       "      <td>positive</td>\n",
       "    </tr>\n",
       "    <tr>\n",
       "      <th>3</th>\n",
       "      <td>According to the Finnish-Russian Chamber of Co...</td>\n",
       "      <td>neutral</td>\n",
       "    </tr>\n",
       "    <tr>\n",
       "      <th>4</th>\n",
       "      <td>The Swedish buyout firm has sold its remaining...</td>\n",
       "      <td>neutral</td>\n",
       "    </tr>\n",
       "  </tbody>\n",
       "</table>\n",
       "</div>"
      ],
      "text/plain": [
       "                                            sentence     label\n",
       "0  The GeoSolutions technology will leverage Bene...  positive\n",
       "1  $ESI on lows, down $1.50 to $2.50 BK a real po...  negative\n",
       "2  For the last quarter of 2010 , Componenta 's n...  positive\n",
       "3  According to the Finnish-Russian Chamber of Co...   neutral\n",
       "4  The Swedish buyout firm has sold its remaining...   neutral"
      ]
     },
     "execution_count": 26,
     "metadata": {},
     "output_type": "execute_result"
    }
   ],
   "source": [
    "try:\n",
    "    # The CSV already has a header row, so read it directly\n",
    "    df = pd.read_csv(file_path, encoding='latin-1')\n",
    "    # Standardize column names just in case\n",
    "    df.columns = ['sentence', 'label']\n",
    "    # Clean label strings (remove surrounding quotes/whitespace, lower-case)\n",
    "    df['label'] = df['label'].astype(str).str.strip().str.replace('\"', '').str.lower()\n",
    "    print(\"Data successfully read!\\n\")\n",
    "except Exception as e:\n",
    "    print(f\"Could not read the file: {e}\")\n",
    "\n",
    "# Show first 5 rows to verify\n",
    "df.head()"
   ]
  },
  {
   "cell_type": "code",
   "execution_count": 27,
   "id": "877fa1da",
   "metadata": {},
   "outputs": [
    {
     "name": "stdout",
     "output_type": "stream",
     "text": [
      "<class 'pandas.core.frame.DataFrame'>\n",
      "RangeIndex: 5842 entries, 0 to 5841\n",
      "Data columns (total 2 columns):\n",
      " #   Column    Non-Null Count  Dtype \n",
      "---  ------    --------------  ----- \n",
      " 0   sentence  5842 non-null   object\n",
      " 1   label     5842 non-null   object\n",
      "dtypes: object(2)\n",
      "memory usage: 91.4+ KB\n"
     ]
    }
   ],
   "source": [
    "df.info()"
   ]
  },
  {
   "cell_type": "code",
   "execution_count": 28,
   "id": "95b88e68",
   "metadata": {},
   "outputs": [
    {
     "data": {
      "text/html": [
       "<div>\n",
       "<style scoped>\n",
       "    .dataframe tbody tr th:only-of-type {\n",
       "        vertical-align: middle;\n",
       "    }\n",
       "\n",
       "    .dataframe tbody tr th {\n",
       "        vertical-align: top;\n",
       "    }\n",
       "\n",
       "    .dataframe thead th {\n",
       "        text-align: right;\n",
       "    }\n",
       "</style>\n",
       "<table border=\"1\" class=\"dataframe\">\n",
       "  <thead>\n",
       "    <tr style=\"text-align: right;\">\n",
       "      <th></th>\n",
       "      <th>sentence</th>\n",
       "      <th>label</th>\n",
       "    </tr>\n",
       "  </thead>\n",
       "  <tbody>\n",
       "    <tr>\n",
       "      <th>count</th>\n",
       "      <td>5842</td>\n",
       "      <td>5842</td>\n",
       "    </tr>\n",
       "    <tr>\n",
       "      <th>unique</th>\n",
       "      <td>5322</td>\n",
       "      <td>3</td>\n",
       "    </tr>\n",
       "    <tr>\n",
       "      <th>top</th>\n",
       "      <td>Managing Director 's comments : `` Net sales f...</td>\n",
       "      <td>neutral</td>\n",
       "    </tr>\n",
       "    <tr>\n",
       "      <th>freq</th>\n",
       "      <td>2</td>\n",
       "      <td>3130</td>\n",
       "    </tr>\n",
       "  </tbody>\n",
       "</table>\n",
       "</div>"
      ],
      "text/plain": [
       "                                                 sentence    label\n",
       "count                                                5842     5842\n",
       "unique                                               5322        3\n",
       "top     Managing Director 's comments : `` Net sales f...  neutral\n",
       "freq                                                    2     3130"
      ]
     },
     "execution_count": 28,
     "metadata": {},
     "output_type": "execute_result"
    }
   ],
   "source": [
    "df.describe()"
   ]
  },
  {
   "cell_type": "code",
   "execution_count": 29,
   "id": "c5761a1c",
   "metadata": {},
   "outputs": [
    {
     "name": "stdout",
     "output_type": "stream",
     "text": [
      "Unique raw labels: ['positive' 'negative' 'neutral']\n",
      "label_name\n",
      "neutral     3130\n",
      "positive    1852\n",
      "negative     860\n",
      "Name: count, dtype: int64\n"
     ]
    }
   ],
   "source": [
    "# Inspect unique raw labels first\n",
    "print(\"Unique raw labels:\", df['label'].unique())\n",
    "\n",
    "# If labels are textual already (positive/negative/neutral), just normalize\n",
    "expected = {\"positive\", \"negative\", \"neutral\"}\n",
    "if set(df['label'].unique()) <= expected:\n",
    "    df['label_name'] = df['label']  # already descriptive\n",
    "else:\n",
    "    # Fallback: try numeric mapping\n",
    "    numeric_map = {0: 'neutral', 1: 'positive', 2: 'negative'}\n",
    "    # Coerce to numeric when possible\n",
    "    df['label_numeric'] = pd.to_numeric(df['label'], errors='coerce')\n",
    "    df['label_name'] = df['label_numeric'].map(numeric_map)\n",
    "\n",
    "# Report any unmapped labels\n",
    "unmapped = df[df['label_name'].isna()]['label'].unique()\n",
    "if len(unmapped):\n",
    "    print(\"Unmapped labels found (please inspect):\", unmapped)\n",
    "\n",
    "print(df['label_name'].value_counts())"
   ]
  },
  {
   "cell_type": "code",
   "execution_count": 30,
   "id": "09398759",
   "metadata": {},
   "outputs": [
    {
     "data": {
      "text/plain": [
       "sentence      0\n",
       "label         0\n",
       "label_name    0\n",
       "dtype: int64"
      ]
     },
     "execution_count": 30,
     "metadata": {},
     "output_type": "execute_result"
    }
   ],
   "source": [
    "df.isna().sum()"
   ]
  },
  {
   "cell_type": "code",
   "execution_count": 38,
   "id": "a0b3a684",
   "metadata": {},
   "outputs": [
    {
     "name": "stderr",
     "output_type": "stream",
     "text": [
      "/var/folders/ws/qwb72h7d5bq8gn5bnw4hw33m0000gn/T/ipykernel_26736/970636141.py:3: FutureWarning: \n",
      "\n",
      "Passing `palette` without assigning `hue` is deprecated and will be removed in v0.14.0. Assign the `x` variable to `hue` and set `legend=False` for the same effect.\n",
      "\n",
      "  sns.countplot(x='label_name', data=df, palette='viridis')\n"
     ]
    },
    {
     "data": {
      "image/png": "[encoded data removed]",
      "text/plain": [
       "<Figure size 800x500 with 1 Axes>"
      ]
     },
     "metadata": {},
     "output_type": "display_data"
    }
   ],
   "source": [
    "# Visualize the distribution with a bar plot\n",
    "plt.figure(figsize=(8, 5))\n",
    "sns.countplot(x='label_name', data=df, palette='viridis')\n",
    "plt.title('Distribution of Sentiment Classes')\n",
    "plt.xlabel('Sentiment')\n",
    "plt.ylabel('Count')\n",
    "plt.show()"
   ]
  },
  {
   "cell_type": "code",
   "execution_count": 32,
   "id": "87d2f360",
   "metadata": {},
   "outputs": [
    {
     "name": "stdout",
     "output_type": "stream",
     "text": [
      "count    5842.000000\n",
      "mean      117.059397\n",
      "std        56.435712\n",
      "min         9.000000\n",
      "25%        72.000000\n",
      "50%       107.000000\n",
      "75%       150.000000\n",
      "max       315.000000\n",
      "Name: sentence_length, dtype: float64\n"
     ]
    },
    {
     "data": {
      "image/png": "[encoded data removed]",
      "text/plain": [
       "<Figure size 1000x600 with 1 Axes>"
      ]
     },
     "metadata": {},
     "output_type": "display_data"
    }
   ],
   "source": [
    "# Create a new column for the length of each sentence\n",
    "df['sentence_length'] = df['sentence'].apply(len)\n",
    "\n",
    "# Show statistics for the sentence lengths\n",
    "print(df['sentence_length'].describe())\n",
    "\n",
    "# Visualize the distribution of sentence lengths\n",
    "plt.figure(figsize=(10, 6))\n",
    "sns.histplot(df['sentence_length'], bins=50, kde=True)\n",
    "plt.title('Distribution of Sentence Length')\n",
    "plt.xlabel('Number of Characters')\n",
    "plt.ylabel('Frequency')\n",
    "plt.show()"
   ]
  },
  {
   "cell_type": "markdown",
   "id": "2e4858f5",
   "metadata": {},
   "source": [
    "# SPLIT DATASET INTO train, test and val (80/10/10)"
   ]
  },
  {
   "cell_type": "code",
   "execution_count": 33,
   "id": "4ad2312e",
   "metadata": {},
   "outputs": [],
   "source": [
    "from sklearn.model_selection import train_test_split"
   ]
  },
  {
   "cell_type": "code",
   "execution_count": 44,
   "id": "0ffd6a87",
   "metadata": {},
   "outputs": [
    {
     "name": "stdout",
     "output_type": "stream",
     "text": [
      "Train: 4673, Test: 585, Val: 584\n",
      "Train label distribution:\n",
      " label_name\n",
      "neutral     0.535844\n",
      "positive    0.316927\n",
      "negative    0.147229\n",
      "Name: proportion, dtype: float64\n",
      "Validation label distribution:\n",
      " label_name\n",
      "neutral     0.535959\n",
      "positive    0.316781\n",
      "negative    0.147260\n",
      "Name: proportion, dtype: float64\n",
      "Test label distribution:\n",
      " label_name\n",
      "neutral     0.535043\n",
      "positive    0.317949\n",
      "negative    0.147009\n",
      "Name: proportion, dtype: float64\n"
     ]
    }
   ],
   "source": [
    "train_df, temp_df = train_test_split(\n",
    "    df,\n",
    "    test_size=0.2,\n",
    "    stratify=df['label_name'],\n",
    "    random_state=42\n",
    ")\n",
    "\n",
    "val_df, test_df = train_test_split(\n",
    "    temp_df,\n",
    "    test_size=0.5,\n",
    "    stratify=temp_df['label_name'],\n",
    "    random_state=42\n",
    ")\n",
    "\n",
    "print(f\"Train: {len(train_df)}, Test: {len(test_df)}, Val: {len(val_df)}\")\n",
    "print(\"Train label distribution:\\n\", train_df['label_name'].value_counts(normalize=True))\n",
    "print(\"Validation label distribution:\\n\", val_df['label_name'].value_counts(normalize=True))\n",
    "print(\"Test label distribution:\\n\", test_df['label_name'].value_counts(normalize=True))"
   ]
  },
  {
   "cell_type": "code",
   "execution_count": 45,
   "id": "39596e25",
   "metadata": {},
   "outputs": [
    {
     "data": {
      "text/html": [
       "<div>\n",
       "<style scoped>\n",
       "    .dataframe tbody tr th:only-of-type {\n",
       "        vertical-align: middle;\n",
       "    }\n",
       "\n",
       "    .dataframe tbody tr th {\n",
       "        vertical-align: top;\n",
       "    }\n",
       "\n",
       "    .dataframe thead th {\n",
       "        text-align: right;\n",
       "    }\n",
       "</style>\n",
       "<table border=\"1\" class=\"dataframe\">\n",
       "  <thead>\n",
       "    <tr style=\"text-align: right;\">\n",
       "      <th></th>\n",
       "      <th>sentence</th>\n",
       "      <th>label</th>\n",
       "      <th>label_name</th>\n",
       "      <th>sentence_length</th>\n",
       "    </tr>\n",
       "  </thead>\n",
       "  <tbody>\n",
       "    <tr>\n",
       "      <th>1247</th>\n",
       "      <td>National Conciliator Juhani Salonius , who met...</td>\n",
       "      <td>negative</td>\n",
       "      <td>negative</td>\n",
       "      <td>149</td>\n",
       "    </tr>\n",
       "    <tr>\n",
       "      <th>966</th>\n",
       "      <td>The goal is to secure the company 's profitabi...</td>\n",
       "      <td>neutral</td>\n",
       "      <td>neutral</td>\n",
       "      <td>72</td>\n",
       "    </tr>\n",
       "    <tr>\n",
       "      <th>4456</th>\n",
       "      <td>M-real Corporation Stock Exchange Announcement...</td>\n",
       "      <td>neutral</td>\n",
       "      <td>neutral</td>\n",
       "      <td>270</td>\n",
       "    </tr>\n",
       "    <tr>\n",
       "      <th>1385</th>\n",
       "      <td>$FB watching for bounce tomorrow</td>\n",
       "      <td>positive</td>\n",
       "      <td>positive</td>\n",
       "      <td>32</td>\n",
       "    </tr>\n",
       "    <tr>\n",
       "      <th>5190</th>\n",
       "      <td>That would be an increase from estimated sales...</td>\n",
       "      <td>positive</td>\n",
       "      <td>positive</td>\n",
       "      <td>73</td>\n",
       "    </tr>\n",
       "  </tbody>\n",
       "</table>\n",
       "</div>"
      ],
      "text/plain": [
       "                                               sentence     label label_name  \\\n",
       "1247  National Conciliator Juhani Salonius , who met...  negative   negative   \n",
       "966   The goal is to secure the company 's profitabi...   neutral    neutral   \n",
       "4456  M-real Corporation Stock Exchange Announcement...   neutral    neutral   \n",
       "1385                   $FB watching for bounce tomorrow  positive   positive   \n",
       "5190  That would be an increase from estimated sales...  positive   positive   \n",
       "\n",
       "      sentence_length  \n",
       "1247              149  \n",
       "966                72  \n",
       "4456              270  \n",
       "1385               32  \n",
       "5190               73  "
      ]
     },
     "execution_count": 45,
     "metadata": {},
     "output_type": "execute_result"
    }
   ],
   "source": [
    "train_df.head()"
   ]
  },
  {
   "cell_type": "code",
   "execution_count": null,
   "id": "4a695720",
   "metadata": {},
   "outputs": [
    {
     "name": "stdout",
     "output_type": "stream",
     "text": [
      "Saved train.csv, val.csv, and test.csv with columns: sentence, label_name, label_id\n"
     ]
    }
   ],
   "source": [
    "# format and save train, val, and test splits as CSVs\n",
    "label2id = {'neutral': 0, 'positive': 1, 'negative': 2}\n",
    " \n",
    "# Prepare train set\n",
    "train_to_save = train_df[['sentence', 'label_name']].copy()\n",
    "train_to_save['label_id'] = train_to_save['label_name'].map(label2id)\n",
    "train_to_save.to_csv(\"../data/train.csv\", index=False)\n",
    " \n",
    "# Prepare validation set\n",
    "val_to_save = val_df[['sentence', 'label_name']].copy()\n",
    "val_to_save['label_id'] = val_to_save['label_name'].map(label2id)\n",
    "val_to_save.to_csv(\"../data/val.csv\", index=False)\n",
    " \n",
    "# Prepare test set\n",
    "test_to_save = test_df[['sentence', 'label_name']].copy()\n",
    "test_to_save['label_id'] = test_to_save['label_name'].map(label2id)\n",
    "test_to_save.to_csv(\"../data/test.csv\", index=False)\n",
    " \n",
    "print(\"Saved train.csv, val.csv, and test.csv with columns: sentence, label_name, label_id\")"
   ]
  }
 ],
 "metadata": {
  "kernelspec": {
   "display_name": "base",
   "language": "python",
   "name": "python3"
  },
  "language_info": {
   "codemirror_mode": {
    "name": "ipython",
    "version": 3
   },
   "file_extension": ".py",
   "mimetype": "text/x-python",
   "name": "python",
   "nbconvert_exporter": "python",
   "pygments_lexer": "ipython3",
   "version": "3.12.3"
  }
 },
 "nbformat": 4,
 "nbformat_minor": 5
}
