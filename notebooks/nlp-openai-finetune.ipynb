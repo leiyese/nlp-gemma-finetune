{
 "cells": [
  {
   "cell_type": "code",
   "execution_count": 1,
   "id": "8ee303b9",
   "metadata": {},
   "outputs": [],
   "source": [
    "#NLP openai model finetuning"
   ]
  },
  {
   "cell_type": "code",
   "execution_count": 1,
   "id": "2c9adba9",
   "metadata": {},
   "outputs": [
    {
     "name": "stderr",
     "output_type": "stream",
     "text": [
      "c:\\Users\\Burak\\anaconda3\\envs\\gpt2env\\Lib\\site-packages\\tqdm\\auto.py:21: TqdmWarning: IProgress not found. Please update jupyter and ipywidgets. See https://ipywidgets.readthedocs.io/en/stable/user_install.html\n",
      "  from .autonotebook import tqdm as notebook_tqdm\n"
     ]
    },
    {
     "data": {
      "text/plain": [
       "(4089, ['negative', 'neutral', 'positive'])"
      ]
     },
     "execution_count": 1,
     "metadata": {},
     "output_type": "execute_result"
    }
   ],
   "source": [
    "# Imports\n",
    "import pandas as pd\n",
    "import torch\n",
    "from torch.utils.data import Dataset\n",
    "from transformers import AutoTokenizer\n",
    "from sklearn.metrics import classification_report, confusion_matrix\n",
    "import matplotlib.pyplot as plt\n",
    "from transformers import AutoModelForSequenceClassification, TrainingArguments, Trainer\n",
    "from sklearn.metrics import accuracy_score, f1_score\n",
    "import numpy as np\n",
    "\n",
    "# Paths\n",
    "TRAIN = \"../data/splits/train.csv\"\n",
    "VAL   = \"../data/splits/val.csv\"\n",
    "TEST  = \"../data/splits/test.csv\"\n",
    "\n",
    "# Load\n",
    "df_tr = pd.read_csv(TRAIN)\n",
    "df_va = pd.read_csv(VAL)\n",
    "df_te = pd.read_csv(TEST)\n",
    "\n",
    "# Labels\n",
    "label_list = sorted(df_tr[\"label\"].unique())\n",
    "label2id = {lab:i for i,lab in enumerate(label_list)}\n",
    "id2label = {i:lab for lab,i in label2id.items()}\n",
    "df_tr[\"y\"] = df_tr[\"label\"].map(label2id).astype(int)\n",
    "df_va[\"y\"] = df_va[\"label\"].map(label2id).astype(int)\n",
    "df_te[\"y\"] = df_te[\"label\"].map(label2id).astype(int)\n",
    "\n",
    "# Tokenizer (GPT-2)\n",
    "tok = AutoTokenizer.from_pretrained(\"gpt2\")\n",
    "if tok.pad_token is None:\n",
    "    tok.pad_token = tok.eos_token  # pad = eos\n",
    "\n",
    "# Torch dataset\n",
    "class SentDataset(Dataset):\n",
    "    def __init__(self, texts, labels, tokenizer, max_len=128):\n",
    "        enc = tokenizer(texts.tolist(), truncation=True, padding=\"max_length\", max_length=max_len)\n",
    "        self.input_ids = torch.tensor(enc[\"input_ids\"])\n",
    "        self.attn      = torch.tensor(enc[\"attention_mask\"])\n",
    "        self.labels    = torch.tensor(labels.tolist(), dtype=torch.long)\n",
    "    def __len__(self): return len(self.labels)\n",
    "    def __getitem__(self, i):\n",
    "        return {\"input_ids\": self.input_ids[i],\n",
    "                \"attention_mask\": self.attn[i],\n",
    "                \"labels\": self.labels[i]}\n",
    "\n",
    "train_ds = SentDataset(df_tr[\"sentence\"], df_tr[\"y\"], tok)\n",
    "val_ds   = SentDataset(df_va[\"sentence\"], df_va[\"y\"], tok)\n",
    "test_ds  = SentDataset(df_te[\"sentence\"], df_te[\"y\"], tok)\n",
    "\n",
    "len(train_ds), label_list\n"
   ]
  },
  {
   "cell_type": "code",
   "execution_count": 2,
   "id": "4237dcd4",
   "metadata": {},
   "outputs": [
    {
     "name": "stderr",
     "output_type": "stream",
     "text": [
      "Some weights of GPT2ForSequenceClassification were not initialized from the model checkpoint at gpt2 and are newly initialized: ['score.weight']\n",
      "You should probably TRAIN this model on a down-stream task to be able to use it for predictions and inference.\n",
      "c:\\Users\\Burak\\anaconda3\\envs\\gpt2env\\Lib\\site-packages\\transformers\\training_args.py:1525: FutureWarning: `evaluation_strategy` is deprecated and will be removed in version 4.46 of 🤗 Transformers. Use `eval_strategy` instead\n",
      "  warnings.warn(\n",
      "  0%|          | 0/1024 [00:00<?, ?it/s]c:\\Users\\Burak\\anaconda3\\envs\\gpt2env\\Lib\\site-packages\\torch\\utils\\data\\dataloader.py:666: UserWarning: 'pin_memory' argument is set as true but no accelerator is found, then device pinned memory won't be used.\n",
      "  warnings.warn(warn_msg)\n",
      "  5%|▍         | 50/1024 [05:16<1:37:35,  6.01s/it]"
     ]
    },
    {
     "name": "stdout",
     "output_type": "stream",
     "text": [
      "{'loss': 1.379, 'grad_norm': 12.347182273864746, 'learning_rate': 0.004755859375, 'epoch': 0.1}\n"
     ]
    },
    {
     "name": "stderr",
     "output_type": "stream",
     "text": [
      " 10%|▉         | 100/1024 [10:42<1:20:49,  5.25s/it]"
     ]
    },
    {
     "name": "stdout",
     "output_type": "stream",
     "text": [
      "{'loss': 1.0719, 'grad_norm': 56.66871643066406, 'learning_rate': 0.00451171875, 'epoch': 0.2}\n"
     ]
    },
    {
     "name": "stderr",
     "output_type": "stream",
     "text": [
      " 15%|█▍        | 150/1024 [15:18<1:32:07,  6.32s/it]"
     ]
    },
    {
     "name": "stdout",
     "output_type": "stream",
     "text": [
      "{'loss': 0.9374, 'grad_norm': 119.34615325927734, 'learning_rate': 0.004267578125, 'epoch': 0.29}\n"
     ]
    },
    {
     "name": "stderr",
     "output_type": "stream",
     "text": [
      " 20%|█▉        | 200/1024 [19:58<1:09:16,  5.04s/it]"
     ]
    },
    {
     "name": "stdout",
     "output_type": "stream",
     "text": [
      "{'loss': 1.0245, 'grad_norm': 64.17362976074219, 'learning_rate': 0.0040234375, 'epoch': 0.39}\n"
     ]
    },
    {
     "name": "stderr",
     "output_type": "stream",
     "text": [
      " 24%|██▍       | 250/1024 [24:16<1:06:42,  5.17s/it]"
     ]
    },
    {
     "name": "stdout",
     "output_type": "stream",
     "text": [
      "{'loss': 0.9295, 'grad_norm': 54.017086029052734, 'learning_rate': 0.003779296875, 'epoch': 0.49}\n"
     ]
    },
    {
     "name": "stderr",
     "output_type": "stream",
     "text": [
      " 29%|██▉       | 300/1024 [28:40<1:03:31,  5.26s/it]"
     ]
    },
    {
     "name": "stdout",
     "output_type": "stream",
     "text": [
      "{'loss': 0.8963, 'grad_norm': 32.667755126953125, 'learning_rate': 0.00353515625, 'epoch': 0.59}\n"
     ]
    },
    {
     "name": "stderr",
     "output_type": "stream",
     "text": [
      " 34%|███▍      | 350/1024 [33:03<58:08,  5.18s/it]  "
     ]
    },
    {
     "name": "stdout",
     "output_type": "stream",
     "text": [
      "{'loss': 0.8875, 'grad_norm': 37.60175704956055, 'learning_rate': 0.003291015625, 'epoch': 0.68}\n"
     ]
    },
    {
     "name": "stderr",
     "output_type": "stream",
     "text": [
      " 39%|███▉      | 400/1024 [37:22<53:26,  5.14s/it]"
     ]
    },
    {
     "name": "stdout",
     "output_type": "stream",
     "text": [
      "{'loss': 1.0288, 'grad_norm': 16.346851348876953, 'learning_rate': 0.003046875, 'epoch': 0.78}\n"
     ]
    },
    {
     "name": "stderr",
     "output_type": "stream",
     "text": [
      " 44%|████▍     | 450/1024 [41:43<49:50,  5.21s/it]"
     ]
    },
    {
     "name": "stdout",
     "output_type": "stream",
     "text": [
      "{'loss': 0.8958, 'grad_norm': 129.2200927734375, 'learning_rate': 0.002802734375, 'epoch': 0.88}\n"
     ]
    },
    {
     "name": "stderr",
     "output_type": "stream",
     "text": [
      " 49%|████▉     | 500/1024 [46:05<45:15,  5.18s/it]"
     ]
    },
    {
     "name": "stdout",
     "output_type": "stream",
     "text": [
      "{'loss': 0.7843, 'grad_norm': 57.160160064697266, 'learning_rate': 0.00255859375, 'epoch': 0.98}\n"
     ]
    },
    {
     "name": "stderr",
     "output_type": "stream",
     "text": [
      "                                                  \n",
      " 50%|█████     | 512/1024 [53:58<32:59,  3.87s/it]c:\\Users\\Burak\\anaconda3\\envs\\gpt2env\\Lib\\site-packages\\torch\\utils\\data\\dataloader.py:666: UserWarning: 'pin_memory' argument is set as true but no accelerator is found, then device pinned memory won't be used.\n",
      "  warnings.warn(warn_msg)\n"
     ]
    },
    {
     "name": "stdout",
     "output_type": "stream",
     "text": [
      "{'eval_loss': 0.7341084480285645, 'eval_accuracy': 0.680365296803653, 'eval_f1_weighted': 0.6485922917145487, 'eval_runtime': 415.3505, 'eval_samples_per_second': 2.109, 'eval_steps_per_second': 0.132, 'epoch': 1.0}\n"
     ]
    },
    {
     "name": "stderr",
     "output_type": "stream",
     "text": [
      " 54%|█████▎    | 550/1024 [57:19<41:49,  5.29s/it]    "
     ]
    },
    {
     "name": "stdout",
     "output_type": "stream",
     "text": [
      "{'loss': 0.7842, 'grad_norm': 68.34996795654297, 'learning_rate': 0.002314453125, 'epoch': 1.07}\n"
     ]
    },
    {
     "name": "stderr",
     "output_type": "stream",
     "text": [
      " 59%|█████▊    | 600/1024 [1:01:41<36:27,  5.16s/it]"
     ]
    },
    {
     "name": "stdout",
     "output_type": "stream",
     "text": [
      "{'loss': 0.8317, 'grad_norm': 61.33763885498047, 'learning_rate': 0.0020703125, 'epoch': 1.17}\n"
     ]
    },
    {
     "name": "stderr",
     "output_type": "stream",
     "text": [
      " 63%|██████▎   | 650/1024 [1:06:00<31:44,  5.09s/it]"
     ]
    },
    {
     "name": "stdout",
     "output_type": "stream",
     "text": [
      "{'loss': 0.7532, 'grad_norm': 22.617393493652344, 'learning_rate': 0.001826171875, 'epoch': 1.27}\n"
     ]
    },
    {
     "name": "stderr",
     "output_type": "stream",
     "text": [
      " 68%|██████▊   | 700/1024 [1:10:24<27:29,  5.09s/it]"
     ]
    },
    {
     "name": "stdout",
     "output_type": "stream",
     "text": [
      "{'loss': 0.7469, 'grad_norm': 17.66736602783203, 'learning_rate': 0.00158203125, 'epoch': 1.37}\n"
     ]
    },
    {
     "name": "stderr",
     "output_type": "stream",
     "text": [
      " 73%|███████▎  | 750/1024 [1:14:46<23:50,  5.22s/it]"
     ]
    },
    {
     "name": "stdout",
     "output_type": "stream",
     "text": [
      "{'loss': 0.8071, 'grad_norm': 104.28998565673828, 'learning_rate': 0.001337890625, 'epoch': 1.46}\n"
     ]
    },
    {
     "name": "stderr",
     "output_type": "stream",
     "text": [
      " 78%|███████▊  | 800/1024 [1:19:06<19:26,  5.21s/it]"
     ]
    },
    {
     "name": "stdout",
     "output_type": "stream",
     "text": [
      "{'loss': 0.6954, 'grad_norm': 60.91526794433594, 'learning_rate': 0.00109375, 'epoch': 1.56}\n"
     ]
    },
    {
     "name": "stderr",
     "output_type": "stream",
     "text": [
      " 83%|████████▎ | 850/1024 [1:23:33<20:21,  7.02s/it]"
     ]
    },
    {
     "name": "stdout",
     "output_type": "stream",
     "text": [
      "{'loss': 0.6309, 'grad_norm': 16.644092559814453, 'learning_rate': 0.000849609375, 'epoch': 1.66}\n"
     ]
    },
    {
     "name": "stderr",
     "output_type": "stream",
     "text": [
      " 88%|████████▊ | 900/1024 [1:28:45<12:03,  5.83s/it]"
     ]
    },
    {
     "name": "stdout",
     "output_type": "stream",
     "text": [
      "{'loss': 0.7115, 'grad_norm': 45.38142013549805, 'learning_rate': 0.00060546875, 'epoch': 1.76}\n"
     ]
    },
    {
     "name": "stderr",
     "output_type": "stream",
     "text": [
      " 93%|█████████▎| 950/1024 [1:33:36<07:11,  5.84s/it]"
     ]
    },
    {
     "name": "stdout",
     "output_type": "stream",
     "text": [
      "{'loss': 0.7092, 'grad_norm': 18.27825164794922, 'learning_rate': 0.000361328125, 'epoch': 1.86}\n"
     ]
    },
    {
     "name": "stderr",
     "output_type": "stream",
     "text": [
      " 98%|█████████▊| 1000/1024 [1:38:29<02:23,  5.97s/it]"
     ]
    },
    {
     "name": "stdout",
     "output_type": "stream",
     "text": [
      "{'loss': 0.6755, 'grad_norm': 62.022701263427734, 'learning_rate': 0.0001171875, 'epoch': 1.95}\n"
     ]
    },
    {
     "name": "stderr",
     "output_type": "stream",
     "text": [
      "                                                     \n",
      "100%|██████████| 1024/1024 [1:47:42<00:00,  6.31s/it]"
     ]
    },
    {
     "name": "stdout",
     "output_type": "stream",
     "text": [
      "{'eval_loss': 0.6910309791564941, 'eval_accuracy': 0.6815068493150684, 'eval_f1_weighted': 0.6654343348517606, 'eval_runtime': 419.4759, 'eval_samples_per_second': 2.088, 'eval_steps_per_second': 0.131, 'epoch': 2.0}\n",
      "{'train_runtime': 6462.9053, 'train_samples_per_second': 1.265, 'train_steps_per_second': 0.158, 'train_loss': 0.8564490899443626, 'epoch': 2.0}\n"
     ]
    },
    {
     "name": "stderr",
     "output_type": "stream",
     "text": [
      "\n"
     ]
    },
    {
     "data": {
      "text/plain": [
       "TrainOutput(global_step=1024, training_loss=0.8564490899443626, metrics={'train_runtime': 6462.9053, 'train_samples_per_second': 1.265, 'train_steps_per_second': 0.158, 'total_flos': 534226030166016.0, 'train_loss': 0.8564490899443626, 'epoch': 2.0})"
      ]
     },
     "execution_count": 2,
     "metadata": {},
     "output_type": "execute_result"
    }
   ],
   "source": [
    "\n",
    "\n",
    "\n",
    "num_labels = len(label_list)\n",
    "\n",
    "# Model\n",
    "model = AutoModelForSequenceClassification.from_pretrained(\n",
    "    \"gpt2\",\n",
    "    num_labels=num_labels,\n",
    "    label2id=label2id,\n",
    "    id2label=id2label\n",
    ")\n",
    "model.config.pad_token_id = tok.pad_token_id\n",
    "\n",
    "# Freeze base (train head only = transfer learning)\n",
    "for name, p in model.named_parameters():\n",
    "    if not name.startswith(\"score\"):\n",
    "        p.requires_grad = False\n",
    "\n",
    "# Metrics\n",
    "def compute_metrics(eval_pred):\n",
    "    logits, labels = eval_pred\n",
    "    preds = np.argmax(logits, axis=-1)\n",
    "    return {\n",
    "        \"accuracy\": accuracy_score(labels, preds),\n",
    "        \"f1_weighted\": f1_score(labels, preds, average=\"weighted\"),\n",
    "    }\n",
    "\n",
    "# Train args (fast)\n",
    "args = TrainingArguments(\n",
    "    output_dir=\"../models/gpt2-head-only\",\n",
    "    per_device_train_batch_size=8,\n",
    "    per_device_eval_batch_size=16,\n",
    "    num_train_epochs=2,\n",
    "    learning_rate=5e-3,\n",
    "    evaluation_strategy=\"epoch\",\n",
    "    save_strategy=\"no\",\n",
    "    logging_steps=50,\n",
    "    report_to=\"none\",\n",
    ")\n",
    "\n",
    "trainer = Trainer(\n",
    "    model=model,\n",
    "    args=args,\n",
    "    train_dataset=train_ds,\n",
    "    eval_dataset=val_ds,\n",
    "    tokenizer=tok,\n",
    "    compute_metrics=compute_metrics\n",
    ")\n",
    "\n",
    "trainer.train()\n"
   ]
  },
  {
   "cell_type": "code",
   "execution_count": 3,
   "id": "038644af",
   "metadata": {},
   "outputs": [
    {
     "name": "stderr",
     "output_type": "stream",
     "text": [
      "c:\\Users\\Burak\\anaconda3\\envs\\gpt2env\\Lib\\site-packages\\torch\\utils\\data\\dataloader.py:666: UserWarning: 'pin_memory' argument is set as true but no accelerator is found, then device pinned memory won't be used.\n",
      "  warnings.warn(warn_msg)\n",
      "100%|██████████| 55/55 [06:46<00:00,  7.38s/it]\n"
     ]
    },
    {
     "name": "stdout",
     "output_type": "stream",
     "text": [
      "              precision    recall  f1-score   support\n",
      "\n",
      "    negative       0.47      0.29      0.36       129\n",
      "     neutral       0.73      0.87      0.79       470\n",
      "    positive       0.66      0.56      0.61       278\n",
      "\n",
      "    accuracy                           0.69       877\n",
      "   macro avg       0.62      0.58      0.59       877\n",
      "weighted avg       0.67      0.69      0.67       877\n",
      "\n"
     ]
    },
    {
     "data": {
      "image/png": "[encoded data removed]",
      "text/plain": [
       "<Figure size 600x500 with 1 Axes>"
      ]
     },
     "metadata": {},
     "output_type": "display_data"
    }
   ],
   "source": [
    "\n",
    "\n",
    "\n",
    "out = trainer.predict(test_ds)\n",
    "y_true = out.label_ids\n",
    "y_pred = out.predictions.argmax(axis=-1)\n",
    "\n",
    "print(classification_report(y_true, y_pred, target_names=[id2label[i] for i in range(num_labels)]))\n",
    "\n",
    "cm = confusion_matrix(y_true, y_pred)\n",
    "plt.figure(figsize=(6,5))\n",
    "plt.imshow(cm, interpolation='nearest')\n",
    "plt.title(\"Confusion Matrix (test)\")\n",
    "plt.xticks(range(num_labels), [id2label[i] for i in range(num_labels)], rotation=45)\n",
    "plt.yticks(range(num_labels), [id2label[i] for i in range(num_labels)])\n",
    "for i in range(cm.shape[0]):\n",
    "    for j in range(cm.shape[1]):\n",
    "        plt.text(j, i, cm[i, j], ha=\"center\", va=\"center\")\n",
    "plt.xlabel(\"Predicted\"); plt.ylabel(\"True\"); plt.tight_layout(); plt.show()\n"
   ]
  },
  {
   "cell_type": "code",
   "execution_count": 4,
   "id": "b6eba01c",
   "metadata": {},
   "outputs": [
    {
     "name": "stdout",
     "output_type": "stream",
     "text": [
      "Totalt antal parametrar: 124,442,112\n",
      "Tränade parametrar: 2,304\n",
      "Frysta parametrar: 124,439,808\n",
      "Andel tränade: 0.000019 (0.0019%)\n"
     ]
    }
   ],
   "source": [
    "\n",
    "total_params = sum(p.numel() for p in model.parameters())\n",
    "trainable_params = sum(p.numel() for p in model.parameters() if p.requires_grad)\n",
    "frozen_params = total_params - trainable_params\n",
    "\n",
    "print(f\"Totalt antal parametrar: {total_params:,}\")\n",
    "print(f\"Tränade parametrar: {trainable_params:,}\")\n",
    "print(f\"Frysta parametrar: {frozen_params:,}\")\n",
    "print(f\"Andel tränade: {trainable_params/total_params:.6f} ({100*trainable_params/total_params:.4f}%)\")\n"
   ]
  }
 ],
 "metadata": {
  "kernelspec": {
   "display_name": "gpt2env",
   "language": "python",
   "name": "python3"
  },
  "language_info": {
   "codemirror_mode": {
    "name": "ipython",
    "version": 3
   },
   "file_extension": ".py",
   "mimetype": "text/x-python",
   "name": "python",
   "nbconvert_exporter": "python",
   "pygments_lexer": "ipython3",
   "version": "3.11.13"
  }
 },
 "nbformat": 4,
 "nbformat_minor": 5
}
