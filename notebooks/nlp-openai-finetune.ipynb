{
 "cells": [
  {
   "cell_type": "code",
   "execution_count": 1,
   "id": "8ee303b9",
   "metadata": {},
   "outputs": [],
   "source": [
    "#NLP openai model finetuning"
   ]
  },
  {
   "cell_type": "code",
   "execution_count": 2,
   "id": "2c9adba9",
   "metadata": {},
   "outputs": [
    {
     "name": "stderr",
     "output_type": "stream",
     "text": [
      "c:\\Users\\Burak\\anaconda3\\envs\\gpt2env\\Lib\\site-packages\\tqdm\\auto.py:21: TqdmWarning: IProgress not found. Please update jupyter and ipywidgets. See https://ipywidgets.readthedocs.io/en/stable/user_install.html\n",
      "  from .autonotebook import tqdm as notebook_tqdm\n",
      "The cache for model files in Transformers v4.22.0 has been updated. Migrating your old cache. This is a one-time only operation. You can interrupt this and resume the migration later on by calling `transformers.utils.move_cache()`.\n",
      "0it [00:00, ?it/s]\n"
     ]
    },
    {
     "data": {
      "text/plain": [
       "(4089, ['negative', 'neutral', 'positive'])"
      ]
     },
     "execution_count": 2,
     "metadata": {},
     "output_type": "execute_result"
    }
   ],
   "source": [
    "# Imports\n",
    "import pandas as pd\n",
    "import torch\n",
    "from torch.utils.data import Dataset\n",
    "from transformers import AutoTokenizer\n",
    "from sklearn.metrics import classification_report, confusion_matrix\n",
    "import matplotlib.pyplot as plt\n",
    "from transformers import AutoModelForSequenceClassification, TrainingArguments, Trainer\n",
    "from sklearn.metrics import accuracy_score, f1_score\n",
    "import numpy as np\n",
    "\n",
    "# Paths\n",
    "TRAIN = \"../data/splits/train.csv\"\n",
    "VAL   = \"../data/splits/val.csv\"\n",
    "TEST  = \"../data/splits/test.csv\"\n",
    "\n",
    "# Load\n",
    "df_tr = pd.read_csv(TRAIN)\n",
    "df_va = pd.read_csv(VAL)\n",
    "df_te = pd.read_csv(TEST)\n",
    "\n",
    "# Labels\n",
    "label_list = sorted(df_tr[\"label\"].unique())\n",
    "label2id = {lab:i for i,lab in enumerate(label_list)}\n",
    "id2label = {i:lab for lab,i in label2id.items()}\n",
    "df_tr[\"y\"] = df_tr[\"label\"].map(label2id).astype(int)\n",
    "df_va[\"y\"] = df_va[\"label\"].map(label2id).astype(int)\n",
    "df_te[\"y\"] = df_te[\"label\"].map(label2id).astype(int)\n",
    "\n",
    "# Tokenizer (GPT-2)\n",
    "tok = AutoTokenizer.from_pretrained(\"gpt2\")\n",
    "if tok.pad_token is None:\n",
    "    tok.pad_token = tok.eos_token  # pad = eos\n",
    "\n",
    "# Torch dataset\n",
    "class SentDataset(Dataset):\n",
    "    def __init__(self, texts, labels, tokenizer, max_len=128):\n",
    "        enc = tokenizer(texts.tolist(), truncation=True, padding=\"max_length\", max_length=max_len)\n",
    "        self.input_ids = torch.tensor(enc[\"input_ids\"])\n",
    "        self.attn      = torch.tensor(enc[\"attention_mask\"])\n",
    "        self.labels    = torch.tensor(labels.tolist(), dtype=torch.long)\n",
    "    def __len__(self): return len(self.labels)\n",
    "    def __getitem__(self, i):\n",
    "        return {\"input_ids\": self.input_ids[i],\n",
    "                \"attention_mask\": self.attn[i],\n",
    "                \"labels\": self.labels[i]}\n",
    "\n",
    "train_ds = SentDataset(df_tr[\"sentence\"], df_tr[\"y\"], tok)\n",
    "val_ds   = SentDataset(df_va[\"sentence\"], df_va[\"y\"], tok)\n",
    "test_ds  = SentDataset(df_te[\"sentence\"], df_te[\"y\"], tok)\n",
    "\n",
    "len(train_ds), label_list\n"
   ]
  },
  {
   "cell_type": "code",
   "execution_count": 3,
   "id": "4237dcd4",
   "metadata": {},
   "outputs": [
    {
     "name": "stderr",
     "output_type": "stream",
     "text": [
      "Some weights of GPT2ForSequenceClassification were not initialized from the model checkpoint at gpt2 and are newly initialized: ['score.weight']\n",
      "You should probably TRAIN this model on a down-stream task to be able to use it for predictions and inference.\n",
      "c:\\Users\\Burak\\anaconda3\\envs\\gpt2env\\Lib\\site-packages\\transformers\\training_args.py:1525: FutureWarning: `evaluation_strategy` is deprecated and will be removed in version 4.46 of 🤗 Transformers. Use `eval_strategy` instead\n",
      "  warnings.warn(\n",
      "  0%|          | 0/1024 [00:00<?, ?it/s]c:\\Users\\Burak\\anaconda3\\envs\\gpt2env\\Lib\\site-packages\\torch\\utils\\data\\dataloader.py:666: UserWarning: 'pin_memory' argument is set as true but no accelerator is found, then device pinned memory won't be used.\n",
      "  warnings.warn(warn_msg)\n",
      "  5%|▍         | 50/1024 [05:20<1:34:19,  5.81s/it]"
     ]
    },
    {
     "name": "stdout",
     "output_type": "stream",
     "text": [
      "{'loss': 1.4378, 'grad_norm': 106.746826171875, 'learning_rate': 0.004755859375, 'epoch': 0.1}\n"
     ]
    },
    {
     "name": "stderr",
     "output_type": "stream",
     "text": [
      " 10%|▉         | 100/1024 [10:57<1:28:19,  5.74s/it]"
     ]
    },
    {
     "name": "stdout",
     "output_type": "stream",
     "text": [
      "{'loss': 1.1934, 'grad_norm': 72.90204620361328, 'learning_rate': 0.00451171875, 'epoch': 0.2}\n"
     ]
    },
    {
     "name": "stderr",
     "output_type": "stream",
     "text": [
      " 15%|█▍        | 150/1024 [16:51<1:47:31,  7.38s/it]"
     ]
    },
    {
     "name": "stdout",
     "output_type": "stream",
     "text": [
      "{'loss': 1.2853, 'grad_norm': 23.359111785888672, 'learning_rate': 0.004267578125, 'epoch': 0.29}\n"
     ]
    },
    {
     "name": "stderr",
     "output_type": "stream",
     "text": [
      " 20%|█▉        | 200/1024 [21:41<1:18:25,  5.71s/it]"
     ]
    },
    {
     "name": "stdout",
     "output_type": "stream",
     "text": [
      "{'loss': 1.1381, 'grad_norm': 106.31114196777344, 'learning_rate': 0.0040234375, 'epoch': 0.39}\n"
     ]
    },
    {
     "name": "stderr",
     "output_type": "stream",
     "text": [
      " 24%|██▍       | 250/1024 [26:28<1:12:32,  5.62s/it]"
     ]
    },
    {
     "name": "stdout",
     "output_type": "stream",
     "text": [
      "{'loss': 1.1668, 'grad_norm': 115.4579086303711, 'learning_rate': 0.003779296875, 'epoch': 0.49}\n"
     ]
    },
    {
     "name": "stderr",
     "output_type": "stream",
     "text": [
      " 29%|██▉       | 300/1024 [31:08<1:06:58,  5.55s/it]"
     ]
    },
    {
     "name": "stdout",
     "output_type": "stream",
     "text": [
      "{'loss': 1.045, 'grad_norm': 54.81670379638672, 'learning_rate': 0.00353515625, 'epoch': 0.59}\n"
     ]
    },
    {
     "name": "stderr",
     "output_type": "stream",
     "text": [
      " 34%|███▍      | 350/1024 [35:50<1:02:20,  5.55s/it]"
     ]
    },
    {
     "name": "stdout",
     "output_type": "stream",
     "text": [
      "{'loss': 0.9297, 'grad_norm': 47.3006706237793, 'learning_rate': 0.003291015625, 'epoch': 0.68}\n"
     ]
    },
    {
     "name": "stderr",
     "output_type": "stream",
     "text": [
      " 39%|███▉      | 400/1024 [40:23<55:30,  5.34s/it]  "
     ]
    },
    {
     "name": "stdout",
     "output_type": "stream",
     "text": [
      "{'loss': 0.9656, 'grad_norm': 97.32428741455078, 'learning_rate': 0.003046875, 'epoch': 0.78}\n"
     ]
    },
    {
     "name": "stderr",
     "output_type": "stream",
     "text": [
      " 44%|████▍     | 450/1024 [44:54<50:27,  5.27s/it]"
     ]
    },
    {
     "name": "stdout",
     "output_type": "stream",
     "text": [
      "{'loss': 0.9079, 'grad_norm': 173.9159393310547, 'learning_rate': 0.002802734375, 'epoch': 0.88}\n"
     ]
    },
    {
     "name": "stderr",
     "output_type": "stream",
     "text": [
      " 49%|████▉     | 500/1024 [49:23<47:02,  5.39s/it]"
     ]
    },
    {
     "name": "stdout",
     "output_type": "stream",
     "text": [
      "{'loss': 0.7845, 'grad_norm': 55.600337982177734, 'learning_rate': 0.00255859375, 'epoch': 0.98}\n"
     ]
    },
    {
     "name": "stderr",
     "output_type": "stream",
     "text": [
      "                                                  \n",
      " 50%|█████     | 512/1024 [57:34<34:29,  4.04s/it]c:\\Users\\Burak\\anaconda3\\envs\\gpt2env\\Lib\\site-packages\\torch\\utils\\data\\dataloader.py:666: UserWarning: 'pin_memory' argument is set as true but no accelerator is found, then device pinned memory won't be used.\n",
      "  warnings.warn(warn_msg)\n"
     ]
    },
    {
     "name": "stdout",
     "output_type": "stream",
     "text": [
      "{'eval_loss': 0.8164379000663757, 'eval_accuracy': 0.6381278538812786, 'eval_f1_weighted': 0.630131736742955, 'eval_runtime': 429.8214, 'eval_samples_per_second': 2.038, 'eval_steps_per_second': 0.128, 'epoch': 1.0}\n"
     ]
    },
    {
     "name": "stderr",
     "output_type": "stream",
     "text": [
      " 54%|█████▎    | 550/1024 [1:01:03<44:36,  5.65s/it]  "
     ]
    },
    {
     "name": "stdout",
     "output_type": "stream",
     "text": [
      "{'loss': 0.8479, 'grad_norm': 120.1795654296875, 'learning_rate': 0.002314453125, 'epoch': 1.07}\n"
     ]
    },
    {
     "name": "stderr",
     "output_type": "stream",
     "text": [
      " 59%|█████▊    | 600/1024 [1:05:30<37:00,  5.24s/it]"
     ]
    },
    {
     "name": "stdout",
     "output_type": "stream",
     "text": [
      "{'loss': 0.8209, 'grad_norm': 75.55189514160156, 'learning_rate': 0.0020703125, 'epoch': 1.17}\n"
     ]
    },
    {
     "name": "stderr",
     "output_type": "stream",
     "text": [
      " 63%|██████▎   | 650/1024 [1:09:56<32:47,  5.26s/it]"
     ]
    },
    {
     "name": "stdout",
     "output_type": "stream",
     "text": [
      "{'loss': 0.7479, 'grad_norm': 9.396931648254395, 'learning_rate': 0.001826171875, 'epoch': 1.27}\n"
     ]
    },
    {
     "name": "stderr",
     "output_type": "stream",
     "text": [
      " 68%|██████▊   | 700/1024 [1:14:23<29:04,  5.39s/it]"
     ]
    },
    {
     "name": "stdout",
     "output_type": "stream",
     "text": [
      "{'loss': 0.7507, 'grad_norm': 50.727333068847656, 'learning_rate': 0.00158203125, 'epoch': 1.37}\n"
     ]
    },
    {
     "name": "stderr",
     "output_type": "stream",
     "text": [
      " 73%|███████▎  | 750/1024 [1:18:50<24:36,  5.39s/it]"
     ]
    },
    {
     "name": "stdout",
     "output_type": "stream",
     "text": [
      "{'loss': 0.7994, 'grad_norm': 93.73221588134766, 'learning_rate': 0.001337890625, 'epoch': 1.46}\n"
     ]
    },
    {
     "name": "stderr",
     "output_type": "stream",
     "text": [
      " 78%|███████▊  | 800/1024 [1:23:19<20:00,  5.36s/it]"
     ]
    },
    {
     "name": "stdout",
     "output_type": "stream",
     "text": [
      "{'loss': 0.7443, 'grad_norm': 76.93376922607422, 'learning_rate': 0.00109375, 'epoch': 1.56}\n"
     ]
    },
    {
     "name": "stderr",
     "output_type": "stream",
     "text": [
      " 83%|████████▎ | 850/1024 [1:27:44<15:17,  5.27s/it]"
     ]
    },
    {
     "name": "stdout",
     "output_type": "stream",
     "text": [
      "{'loss': 0.6372, 'grad_norm': 22.419160842895508, 'learning_rate': 0.000849609375, 'epoch': 1.66}\n"
     ]
    },
    {
     "name": "stderr",
     "output_type": "stream",
     "text": [
      " 88%|████████▊ | 900/1024 [1:32:10<10:49,  5.24s/it]"
     ]
    },
    {
     "name": "stdout",
     "output_type": "stream",
     "text": [
      "{'loss': 0.7316, 'grad_norm': 34.47886657714844, 'learning_rate': 0.00060546875, 'epoch': 1.76}\n"
     ]
    },
    {
     "name": "stderr",
     "output_type": "stream",
     "text": [
      " 93%|█████████▎| 950/1024 [1:36:34<06:28,  5.24s/it]"
     ]
    },
    {
     "name": "stdout",
     "output_type": "stream",
     "text": [
      "{'loss': 0.6919, 'grad_norm': 16.383075714111328, 'learning_rate': 0.000361328125, 'epoch': 1.86}\n"
     ]
    },
    {
     "name": "stderr",
     "output_type": "stream",
     "text": [
      " 98%|█████████▊| 1000/1024 [1:41:07<02:08,  5.34s/it]"
     ]
    },
    {
     "name": "stdout",
     "output_type": "stream",
     "text": [
      "{'loss': 0.6803, 'grad_norm': 77.60570526123047, 'learning_rate': 0.0001171875, 'epoch': 1.95}\n"
     ]
    },
    {
     "name": "stderr",
     "output_type": "stream",
     "text": [
      "                                                     \n",
      "100%|██████████| 1024/1024 [1:50:27<00:00,  6.47s/it]"
     ]
    },
    {
     "name": "stdout",
     "output_type": "stream",
     "text": [
      "{'eval_loss': 0.6913931965827942, 'eval_accuracy': 0.6837899543378996, 'eval_f1_weighted': 0.6722350603223413, 'eval_runtime': 433.9634, 'eval_samples_per_second': 2.019, 'eval_steps_per_second': 0.127, 'epoch': 2.0}\n",
      "{'train_runtime': 6627.9267, 'train_samples_per_second': 1.234, 'train_steps_per_second': 0.154, 'train_loss': 0.9117198325693607, 'epoch': 2.0}\n"
     ]
    },
    {
     "name": "stderr",
     "output_type": "stream",
     "text": [
      "\n"
     ]
    },
    {
     "data": {
      "text/plain": [
       "TrainOutput(global_step=1024, training_loss=0.9117198325693607, metrics={'train_runtime': 6627.9267, 'train_samples_per_second': 1.234, 'train_steps_per_second': 0.154, 'total_flos': 534226030166016.0, 'train_loss': 0.9117198325693607, 'epoch': 2.0})"
      ]
     },
     "execution_count": 3,
     "metadata": {},
     "output_type": "execute_result"
    }
   ],
   "source": [
    "\n",
    "\n",
    "\n",
    "num_labels = len(label_list)\n",
    "\n",
    "# Model\n",
    "model = AutoModelForSequenceClassification.from_pretrained(\n",
    "    \"gpt2\",\n",
    "    num_labels=num_labels,\n",
    "    label2id=label2id,\n",
    "    id2label=id2label\n",
    ")\n",
    "model.config.pad_token_id = tok.pad_token_id\n",
    "\n",
    "# Freeze base (train head only = transfer learning)\n",
    "for name, p in model.named_parameters():\n",
    "    if not name.startswith(\"score\"):\n",
    "        p.requires_grad = False\n",
    "\n",
    "# Metrics\n",
    "def compute_metrics(eval_pred):\n",
    "    logits, labels = eval_pred\n",
    "    preds = np.argmax(logits, axis=-1)\n",
    "    return {\n",
    "        \"accuracy\": accuracy_score(labels, preds),\n",
    "        \"f1_weighted\": f1_score(labels, preds, average=\"weighted\"),\n",
    "    }\n",
    "\n",
    "# Train args (fast)\n",
    "args = TrainingArguments(\n",
    "    output_dir=\"../models/gpt2-head-only\",\n",
    "    per_device_train_batch_size=8,\n",
    "    per_device_eval_batch_size=16,\n",
    "    num_train_epochs=2,\n",
    "    learning_rate=5e-3,\n",
    "    evaluation_strategy=\"epoch\",\n",
    "    save_strategy=\"no\",\n",
    "    logging_steps=50,\n",
    "    report_to=\"none\",\n",
    ")\n",
    "\n",
    "trainer = Trainer(\n",
    "    model=model,\n",
    "    args=args,\n",
    "    train_dataset=train_ds,\n",
    "    eval_dataset=val_ds,\n",
    "    tokenizer=tok,\n",
    "    compute_metrics=compute_metrics\n",
    ")\n",
    "\n",
    "trainer.train()\n"
   ]
  },
  {
   "cell_type": "code",
   "execution_count": 4,
   "id": "038644af",
   "metadata": {},
   "outputs": [
    {
     "name": "stderr",
     "output_type": "stream",
     "text": [
      "c:\\Users\\Burak\\anaconda3\\envs\\gpt2env\\Lib\\site-packages\\torch\\utils\\data\\dataloader.py:666: UserWarning: 'pin_memory' argument is set as true but no accelerator is found, then device pinned memory won't be used.\n",
      "  warnings.warn(warn_msg)\n",
      "100%|██████████| 55/55 [07:08<00:00,  7.79s/it]\n"
     ]
    },
    {
     "name": "stdout",
     "output_type": "stream",
     "text": [
      "              precision    recall  f1-score   support\n",
      "\n",
      "    negative       0.41      0.29      0.34       129\n",
      "     neutral       0.75      0.87      0.81       470\n",
      "    positive       0.67      0.56      0.61       278\n",
      "\n",
      "    accuracy                           0.69       877\n",
      "   macro avg       0.61      0.58      0.59       877\n",
      "weighted avg       0.67      0.69      0.68       877\n",
      "\n"
     ]
    },
    {
     "data": {
      "image/png": "[encoded data removed]",
      "text/plain": [
       "<Figure size 600x500 with 1 Axes>"
      ]
     },
     "metadata": {},
     "output_type": "display_data"
    }
   ],
   "source": [
    "\n",
    "\n",
    "\n",
    "out = trainer.predict(test_ds)\n",
    "y_true = out.label_ids\n",
    "y_pred = out.predictions.argmax(axis=-1)\n",
    "\n",
    "print(classification_report(y_true, y_pred, target_names=[id2label[i] for i in range(num_labels)]))\n",
    "\n",
    "cm = confusion_matrix(y_true, y_pred)\n",
    "plt.figure(figsize=(6,5))\n",
    "plt.imshow(cm, interpolation='nearest')\n",
    "plt.title(\"Confusion Matrix (test)\")\n",
    "plt.xticks(range(num_labels), [id2label[i] for i in range(num_labels)], rotation=45)\n",
    "plt.yticks(range(num_labels), [id2label[i] for i in range(num_labels)])\n",
    "for i in range(cm.shape[0]):\n",
    "    for j in range(cm.shape[1]):\n",
    "        plt.text(j, i, cm[i, j], ha=\"center\", va=\"center\")\n",
    "plt.xlabel(\"Predicted\"); plt.ylabel(\"True\"); plt.tight_layout(); plt.show()\n"
   ]
  }
 ],
 "metadata": {
  "kernelspec": {
   "display_name": "gpt2env",
   "language": "python",
   "name": "python3"
  },
  "language_info": {
   "codemirror_mode": {
    "name": "ipython",
    "version": 3
   },
   "file_extension": ".py",
   "mimetype": "text/x-python",
   "name": "python",
   "nbconvert_exporter": "python",
   "pygments_lexer": "ipython3",
   "version": "3.11.13"
  }
 },
 "nbformat": 4,
 "nbformat_minor": 5
}
