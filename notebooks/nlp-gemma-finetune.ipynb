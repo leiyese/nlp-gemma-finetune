{
  "cells": [
    {
      "cell_type": "code",
      "source": [
        "#NLP gemma model finetuning"
      ],
      "metadata": {
        "id": "kGB8i2vi0CWd"
      },
      "id": "kGB8i2vi0CWd",
      "execution_count": 1,
      "outputs": []
    },
    {
      "cell_type": "code",
      "source": [],
      "metadata": {
        "id": "9Sz-NZSm0Ifq"
      },
      "id": "9Sz-NZSm0Ifq",
      "execution_count": null,
      "outputs": []
    }
  ],
  "metadata": {
    "language_info": {
      "name": "python"
    },
    "colab": {
      "provenance": []
    },
    "kernelspec": {
      "name": "python3",
      "display_name": "Python 3"
    }
  },
  "nbformat": 4,
  "nbformat_minor": 5
}